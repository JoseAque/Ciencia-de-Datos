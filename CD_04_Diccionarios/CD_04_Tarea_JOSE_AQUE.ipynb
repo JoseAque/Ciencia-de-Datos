{
 "cells": [
  {
   "cell_type": "markdown",
   "metadata": {},
   "source": [
    "<!--Información del curso-->\n",
    "<img align=\"left\" style=\"padding-right:10px;\" src=\"figuras/logo_ciencia_datos.png\">"
   ]
  },
  {
   "cell_type": "markdown",
   "metadata": {},
   "source": [
    "<center><h1 style=\"font-size:2em;color:#2467C0\">  Caso de estudio </h1></center>\n",
    "\n",
    "<center><h4 style=\"font-size:2em;color:#840700\">  Incendios forestales  </h4></center>\n",
    "\n",
    "<br>\n",
    "<table>\n",
    "<col width=\"550\">\n",
    "<col width=\"450\">\n",
    "<tr>\n",
    "<td><img src=\"figuras/incendio.jpg\" align=\"middle\" style=\"width:500px\"/></td>\n",
    "<td align=\"left-align\">\n",
    "\n",
    "En México, se registran anualmente un promedio de 8 mil incendios forestales que afectan los diferentes ecosistemas terrestres en diversos grados. El año de 1998 ha sido considerado el de mayor desastre a nivel nacional, con 14 mil 428 incendios y 848 mil 960 hectáreas afectadas.  \n",
    "\n",
    "https://datos.gob.mx/busca/dataset/incendios-forestales\n",
    "\n",
    " <br>\n",
    "</td>\n",
    "</tr>\n",
    "</table>"
   ]
  },
  {
   "cell_type": "markdown",
   "metadata": {},
   "source": [
    "# Librerías"
   ]
  },
  {
   "cell_type": "markdown",
   "metadata": {
    "collapsed": true
   },
   "source": [
    "Cargamos las bibliotecas que necesitamos "
   ]
  },
  {
   "cell_type": "code",
   "execution_count": 43,
   "metadata": {},
   "outputs": [],
   "source": [
    "import csv\n",
    "import matplotlib.pyplot as plt"
   ]
  },
  {
   "cell_type": "markdown",
   "metadata": {},
   "source": [
    "# Información de los datos\n",
    "\n",
    "Fuente:\n",
    "https://datos.gob.mx/busca/dataset/incendios-forestales"
   ]
  },
  {
   "cell_type": "code",
   "execution_count": 44,
   "metadata": {},
   "outputs": [
    {
     "name": "stdout",
     "output_type": "stream",
     "text": [
      "[['2021', '21-01-0001', '21', '59', '53.79', '21.998275', '102', '13', '53.7', '-102.2315833', '11', 'Aguascalientes', 'San Francisco de los Romo', '1', '11', '1011', 'Occidente', 'La Reserva de Mezquite', 'Fumadores', 'Ninguna / No aplica', '44200', '44200', '1 Día', 'Superficial', 'Matorral Crasicaule', 'Otros', 'Impacto Mínimo', '0', '0', '0', '10.15', '0', '10.15', '11 a 20 Hectáreas', '0.006944444', '0.003472222', '0.131944444'], ['2021', '21-01-0002', '21', '49', '26.01', '21.823892', '102', '14', '56.2', '-102.2489444', '1', 'Aguascalientes', 'Aguascalientes', '1', '1', '1001', 'Occidente', 'Predio Villalobos', 'Actividades ilícitas', 'Vandalismo', '44200', '44201', '2 a 3 Días', 'Superficial', 'Matorral Crasicaule', 'Otros', 'Impacto Mínimo', '0', '0', '0', '1.16', '0', '1.16', '0 a 5 Hectáreas', '0.003472222', '0.006944444', '0.104166667']]\n"
     ]
    }
   ],
   "source": [
    "#  En caso de error, cerrar y colocar en el CMD\n",
    "#  jupyter notebook --NotebookApp.iopub_data_rate_limit=1e10\n",
    "\n",
    "with open('datos/BD_IncendiosSNIF_2021.csv', encoding=\"latin-1\") as archivo_csv:\n",
    "    next(archivo_csv)  # Saltar la primera línea (encabezados)\n",
    "    datos_csv = list(csv.reader(archivo_csv))\n",
    "\n",
    "print(datos_csv[0:2])\n"
   ]
  },
  {
   "cell_type": "markdown",
   "metadata": {},
   "source": [
    "# TAREA"
   ]
  },
  {
   "cell_type": "markdown",
   "metadata": {},
   "source": [
    "<div class=\"alert alert-success\">\n",
    " <ul>\n",
    "  <li>1. Encuentre el total  de hectáreas afectadas </li>\n",
    "\n",
    "</ul> \n",
    "\n",
    "</div>"
   ]
  },
  {
   "cell_type": "code",
   "execution_count": 45,
   "metadata": {},
   "outputs": [
    {
     "name": "stdout",
     "output_type": "stream",
     "text": [
      "Total de hectáreas afectadas: 660734.57\n"
     ]
    }
   ],
   "source": [
    "total = 0\n",
    "for fila in datos_csv:\n",
    "        total += float(fila[32])\n",
    "\n",
    "print(f\"Total de hectáreas afectadas: {total:.2f}\")"
   ]
  },
  {
   "cell_type": "markdown",
   "metadata": {},
   "source": [
    "<div class=\"alert alert-success\">\n",
    " <ul>\n",
    "  <li>2. ¿En donde fue (estado y municipio) el incendio con mayor número de hectáreas afectadas y cuantas fueron  ?</li>\n",
    "\n",
    "</ul> \n",
    "\n",
    "</div>"
   ]
  },
  {
   "cell_type": "code",
   "execution_count": 46,
   "metadata": {},
   "outputs": [
    {
     "name": "stdout",
     "output_type": "stream",
     "text": [
      "Estado:  Guerrero\n",
      "Municipio:  Coyuca de Catalán\n",
      "Incendio con mayor afectación: 19102.32 hectáreas\n"
     ]
    }
   ],
   "source": [
    "hectarea_mayor = 0\n",
    "\n",
    "for fila in datos_csv:\n",
    "    hectarea = float(fila[32])\n",
    "    if hectarea > hectarea_mayor:\n",
    "        hectarea_mayor = hectarea\n",
    "        estado_mayor = fila[11]\n",
    "        municipio_mayor = fila[12]\n",
    "\n",
    "print(\"Estado: \", estado_mayor)\n",
    "print(\"Municipio: \", municipio_mayor)\n",
    "print(f\"Incendio con mayor afectación: {hectarea_mayor:.2f} hectáreas\")"
   ]
  },
  {
   "cell_type": "markdown",
   "metadata": {},
   "source": [
    "<div class=\"alert alert-success\">\n",
    " <ul>\n",
    "  <li>3. Encuentre el número de incendios por tipo </li>\n",
    "     \n",
    "* De copa\n",
    "* Mixto\n",
    "* Subterráneo\n",
    "* Superficial\n",
    "\n",
    "</ul> \n",
    "\n",
    "</div>"
   ]
  },
  {
   "cell_type": "code",
   "execution_count": 47,
   "metadata": {},
   "outputs": [
    {
     "name": "stdout",
     "output_type": "stream",
     "text": [
      "de copa: 1 incendios\n",
      "mixto: 353 incendios\n",
      "subterráneo: 11 incendios\n",
      "superficial: 6972 incendios\n"
     ]
    }
   ],
   "source": [
    "tipos_incendio = {\n",
    "    \"de copa\": 0,\n",
    "    \"mixto\": 0,\n",
    "    \"subterráneo\": 0,\n",
    "    \"superficial\": 0\n",
    "}\n",
    "\n",
    "for fila in datos_csv:\n",
    "    tipo = fila[23].lower()\n",
    "    if tipo in tipos_incendio:\n",
    "        tipos_incendio[tipo] += 1\n",
    "\n",
    "# Mostrar resultados\n",
    "for tipo, cantidad in tipos_incendio.items():\n",
    "    print(f\"{tipo}: {cantidad} incendios\")\n",
    "\n"
   ]
  },
  {
   "cell_type": "markdown",
   "metadata": {},
   "source": [
    "<div class=\"alert alert-success\">\n",
    " <ul>\n",
    "  <li>4. Encuentre el número de incendios reportados por estado </li>\n",
    "     \n",
    "</ul> \n",
    "\n",
    "</div>"
   ]
  },
  {
   "cell_type": "code",
   "execution_count": 48,
   "metadata": {},
   "outputs": [
    {
     "name": "stdout",
     "output_type": "stream",
     "text": [
      "Aguascalientes: 37 incendios\n",
      "Baja California: 79 incendios\n",
      "Baja California Sur: 5 incendios\n",
      "Campeche: 5 incendios\n",
      "Chiapas: 278 incendios\n",
      "Chihuahua: 657 incendios\n",
      "Ciudad de México: 896 incendios\n",
      "Coahuila: 53 incendios\n",
      "Colima: 38 incendios\n",
      "Durango: 270 incendios\n",
      "Guanajuato: 25 incendios\n",
      "Guerrero: 198 incendios\n",
      "Hidalgo: 70 incendios\n",
      "Jalisco: 1031 incendios\n",
      "México: 1494 incendios\n",
      "Michoacán: 636 incendios\n",
      "Morelos: 154 incendios\n",
      "Nayarit: 103 incendios\n",
      "Nuevo León: 51 incendios\n",
      "Oaxaca: 151 incendios\n",
      "Puebla: 313 incendios\n",
      "Querétaro: 51 incendios\n",
      "Quintana Roo: 33 incendios\n",
      "San Luis Potosí: 78 incendios\n",
      "Sinaloa: 23 incendios\n",
      "Sonora: 31 incendios\n",
      "Tabasco: 12 incendios\n",
      "Tamaulipas: 25 incendios\n",
      "Tlaxcala: 275 incendios\n",
      "Veracruz: 158 incendios\n",
      "Yucatán: 15 incendios\n",
      "Zacatecas: 92 incendios\n"
     ]
    }
   ],
   "source": [
    "incendios_estado = {}\n",
    "\n",
    "for fila in datos_csv: \n",
    "    estado = fila[11].strip()\n",
    "    if estado in incendios_estado: #Si el estado ya esta + 1\n",
    "        incendios_estado[estado] += 1\n",
    "    else:\n",
    "        incendios_estado[estado] = 1\n",
    "\n",
    "\n",
    "for estado, cantidad in incendios_estado.items():\n",
    "    print(f\"{estado}: {cantidad} incendios\")"
   ]
  },
  {
   "cell_type": "markdown",
   "metadata": {},
   "source": [
    "<div class=\"alert alert-success\">\n",
    " <ul>\n",
    "  <li> 5. Encuentre el número de incendios reportados en los municipios de Yucatán </li>\n",
    "</ul> \n",
    "\n",
    "</div>"
   ]
  },
  {
   "cell_type": "code",
   "execution_count": 49,
   "metadata": {},
   "outputs": [
    {
     "name": "stdout",
     "output_type": "stream",
     "text": [
      "Progreso: 1 incendios\n",
      "Maxcanú: 1 incendios\n",
      "Dzemul: 2 incendios\n",
      "Halachó: 1 incendios\n",
      "Conkal: 1 incendios\n",
      "Yaxkukul: 1 incendios\n",
      "Chemax: 4 incendios\n",
      "Chocholá: 1 incendios\n",
      "Tixkokob: 1 incendios\n",
      "Umán: 1 incendios\n",
      "Tekax: 1 incendios\n"
     ]
    }
   ],
   "source": [
    "incendios_municipios_yucatan = {}\n",
    "\n",
    "for fila in datos_csv:\n",
    "    estado = fila[11]\n",
    "    if estado == \"Yucatán\":\n",
    "        municipio = fila[12] \n",
    "        if municipio in incendios_municipios_yucatan:\n",
    "            incendios_municipios_yucatan[municipio] += 1\n",
    "        else:\n",
    "            incendios_municipios_yucatan[municipio] = 1\n",
    "\n",
    "# Mostrar resultados\n",
    "for municipio, cantidad in incendios_municipios_yucatan.items():\n",
    "    print(f\"{municipio}: {cantidad} incendios\")"
   ]
  },
  {
   "cell_type": "code",
   "execution_count": null,
   "metadata": {},
   "outputs": [],
   "source": []
  },
  {
   "cell_type": "code",
   "execution_count": null,
   "metadata": {},
   "outputs": [],
   "source": []
  }
 ],
 "metadata": {
  "kernelspec": {
   "display_name": "3.10.11",
   "language": "python",
   "name": "python3"
  },
  "language_info": {
   "codemirror_mode": {
    "name": "ipython",
    "version": 3
   },
   "file_extension": ".py",
   "mimetype": "text/x-python",
   "name": "python",
   "nbconvert_exporter": "python",
   "pygments_lexer": "ipython3",
   "version": "3.10.11"
  }
 },
 "nbformat": 4,
 "nbformat_minor": 4
}
