{
 "cells": [
  {
   "cell_type": "markdown",
   "metadata": {},
   "source": [
    "<!--Información del curso-->\n",
    "<img align=\"left\" style=\"padding-right:10px;\" src=\"figuras/banner_cd.png\">"
   ]
  },
  {
   "cell_type": "markdown",
   "metadata": {},
   "source": [
    "<center><h1 style=\"font-size:2em;color:#2467C0\"> Diccionarios </h1></center>\n",
    "<br>\n",
    "<table>\n",
    "<col width=\"550\">\n",
    "<col width=\"450\">\n",
    "<tr>\n",
    "<td><img src=\"figuras/diccionarios_listas.png\" align=\"middle\" style=\"width:600px\"/></td>\n",
    "<td>\n",
    "    \n",
    "\n",
    "Un **Diccionario** es una estructura de datos y un tipo de dato en Python con características especiales que nos permite almacenar cualquier tipo de valor como enteros, cadenas, listas e incluso otras funciones. Estos diccionarios nos permiten además identificar cada elemento por una clave (*Key*).    \n",
    "\n",
    "    \n",
    "</td>\n",
    "</tr>\n",
    "</table>"
   ]
  },
  {
   "cell_type": "markdown",
   "metadata": {},
   "source": [
    "# Introducción "
   ]
  },
  {
   "cell_type": "markdown",
   "metadata": {},
   "source": [
    "## ¿Que es una colección? \n",
    "\n",
    "* Es una variable que contiene diferentes elementos\n",
    "\n",
    "* Tiene una forma de indexar, de buscar y manipular a los elementos contenidos.\n",
    "\n",
    "## ¿Que no es una“Coleccion”? \n",
    "\n",
    "* Variables que tienen solo un valor\n",
    "\n",
    "```python\n",
    ">>> x = 2\n",
    ">>> x = 4\n",
    ">>> print(x)\n",
    "4\n",
    "``` \n",
    "\n",
    "## Dos tipos de colecciones:\n",
    "\n",
    "**Lista**\n",
    "* Una colección lineal de valores que se mantienen en orden.\n",
    "\n",
    "**Diccionario**\n",
    "\n",
    "* Una “mochila personal”, con objetos donde cada  uno tiene  su propia etiqueta.\n",
    "* Los diccionarios son la colección de datos más poderosa de Python.\n",
    "* Los diccionarios nos permiten realizar operaciones rápidas similares a bases de datos\n",
    "\n",
    "\n",
    "<img align=\"left\" width=\"300\"  float= \"none\" align=\"middle\" src=\"figuras/mochila.png\">\n",
    "\n"
   ]
  },
  {
   "cell_type": "markdown",
   "metadata": {},
   "source": [
    "\n",
    "\n",
    "## Listas Vs Diccionarios\n",
    "\n",
    "En Python, tanto las listas como los diccionarios son tipos de datos que se utilizan para almacenar y organizar elementos. Sin embargo, hay diferencias importantes entre ellos en cuanto a su estructura y forma de acceso a los elementos.\n",
    "\n",
    "* Estructura y orden: Una lista en Python es una colección ordenada de elementos, lo que significa que los elementos se almacenan en un orden específico y se accede a ellos mediante índices numéricos. Por otro lado, un diccionario es una colección no ordenada de pares clave-valor, donde cada elemento se almacena como un par de clave y valor asociados. Los elementos en un diccionario no tienen un orden definido y se accede a ellos a través de sus claves en lugar de índices.\n",
    "\n",
    "* Acceso a los elementos: En una lista, los elementos se acceden mediante índices numéricos, comenzando desde 0. Por ejemplo, **mi_lista[0]** accedería al primer elemento de la lista. En cambio, en un diccionario, los elementos se acceden mediante sus claves. Por ejemplo, **mi_diccionario['clave']** devolvería el valor asociado a la clave 'clave'. Las claves en un diccionario deben ser únicas, lo que permite una búsqueda eficiente de elementos según su clave.\n",
    "\n",
    "* Mutabilidad: Tanto las listas como los diccionarios son mutables, lo que significa que se pueden modificar después de su creación. En una lista, puedes cambiar, agregar o eliminar elementos mediante métodos como *append(), insert(), remove()*, entre otros. En un diccionario, puedes modificar el valor asociado a una clave existente, agregar nuevas claves y valores, o eliminar elementos mediante operaciones como la asignación directa de valores o el uso de los métodos *update() y del*.\n",
    "\n",
    "Aquí tienes un ejemplo que ilustra las diferencias entre una lista y un diccionario:\n",
    "\n",
    "```python\n",
    "# Ejemplo de una lista\n",
    "mi_lista = ['manzana', 'banana', 'naranja']\n",
    "print(mi_lista[0])  # Acceso a elementos por índice\n",
    "\n",
    "# Ejemplo de un diccionario\n",
    "mi_diccionario = {'fruta1': 'manzana', 'fruta2': 'banana', 'fruta3': 'naranja'}\n",
    "print(mi_diccionario['fruta1'])  # Acceso a elementos por clave\n",
    "```    \n",
    "\n",
    "En resumen, una lista es una colección ordenada de elementos accesibles mediante índices numéricos, mientras que un diccionario es una colección no ordenada de pares clave-valor, donde los elementos se acceden mediante sus claves. Las listas son útiles cuando se necesita un orden específico y se accede a los elementos principalmente por su posición, mientras que los diccionarios son útiles cuando se necesita una búsqueda eficiente de elementos por sus claves.\n",
    "\n",
    "\n"
   ]
  },
  {
   "cell_type": "code",
   "execution_count": 1,
   "metadata": {},
   "outputs": [
    {
     "name": "stdout",
     "output_type": "stream",
     "text": [
      "<class 'dict'>\n",
      "{}\n"
     ]
    }
   ],
   "source": [
    "#Ejemplo de creación de un diccionario\n",
    "mochila = dict()\n",
    "print(type(mochila))\n",
    "print(mochila)"
   ]
  },
  {
   "cell_type": "code",
   "execution_count": 2,
   "metadata": {},
   "outputs": [],
   "source": [
    "#Agregar dos elementos más a la mochila\n",
    "mochila['dinero'] = 120\n",
    "mochila['chicles'] = 'Menta'\n",
    "mochila['llaves'] = True"
   ]
  },
  {
   "cell_type": "code",
   "execution_count": 3,
   "metadata": {},
   "outputs": [
    {
     "name": "stdout",
     "output_type": "stream",
     "text": [
      "{'dinero': 120, 'chicles': 'Menta', 'llaves': True}\n"
     ]
    }
   ],
   "source": [
    "#Mostrando todo el contenido\n",
    "print(mochila)"
   ]
  },
  {
   "cell_type": "code",
   "execution_count": 4,
   "metadata": {},
   "outputs": [
    {
     "name": "stdout",
     "output_type": "stream",
     "text": [
      "Menta\n"
     ]
    }
   ],
   "source": [
    "print(mochila['chicles'])"
   ]
  },
  {
   "cell_type": "code",
   "execution_count": 5,
   "metadata": {},
   "outputs": [],
   "source": [
    "#Suponer que tomas $50 pesos para pagar\n",
    "mochila['dinero'] = mochila['dinero'] - 50"
   ]
  },
  {
   "cell_type": "code",
   "execution_count": 6,
   "metadata": {},
   "outputs": [
    {
     "name": "stdout",
     "output_type": "stream",
     "text": [
      "{'dinero': 70, 'chicles': 'Menta', 'llaves': True}\n"
     ]
    }
   ],
   "source": [
    "#Mostrar el contenido de la mochila actualizada\n",
    "print(mochila)"
   ]
  },
  {
   "cell_type": "markdown",
   "metadata": {},
   "source": [
    "**Diccionario Vs Lista**\n",
    "* En las listas, cada entrada tiene un  índice y esta basada en su posición\n",
    "\n",
    "* En los Diccionarios  no existe un orden.\n",
    "\n",
    "* En los Diccionarios cada elemento esta referenciado a través de una etiqueta o una key.\n",
    "\n",
    "* Diccionarios son como las listas excepto que usan etiquetas en lugar de números (índices numericos)  para buscar valores\n",
    "\n"
   ]
  },
  {
   "cell_type": "code",
   "execution_count": 45,
   "metadata": {},
   "outputs": [
    {
     "name": "stdout",
     "output_type": "stream",
     "text": [
      "[21, 183]\n"
     ]
    }
   ],
   "source": [
    "# Agregando elementos a un lista\n",
    "lst = list() # lst=[], creamos una lista vacía\n",
    "lst.append(21)\n",
    "lst.append(183)\n",
    "print(lst)"
   ]
  },
  {
   "cell_type": "code",
   "execution_count": 46,
   "metadata": {},
   "outputs": [
    {
     "name": "stdout",
     "output_type": "stream",
     "text": [
      "{'nombre': 'Juan', 'edad': 20, 'curso': 'ICD', 'semestre': 6}\n"
     ]
    }
   ],
   "source": [
    "# Agregando elementos a un diccionario\n",
    "estudiante = dict() # estudiante = {} , Creamos un diccionario vacío\n",
    "\n",
    "estudiante['nombre'] = 'Juan'\n",
    "estudiante['edad'] = 20\n",
    "estudiante['curso'] = 'ICD'\n",
    "estudiante['semestre'] = 6\n",
    "print(estudiante)\n"
   ]
  },
  {
   "cell_type": "code",
   "execution_count": 47,
   "metadata": {},
   "outputs": [],
   "source": [
    "# Construcción de un diccionario de estudiantes\n",
    "estudiantes = {\n",
    " 'estudiante_1':{'nombre': 'Juan', 'edad': 20, 'curso': 'Fisica 3', 'semestre': 6} ,\n",
    " 'estudiante_2':{'nombre': 'Pedro', 'edad': 21, 'curso': 'Fisica 4', 'semestre': 7} ,\n",
    " 'estudiante_3':{'nombre': 'Ana', 'edad': 20, 'curso': 'Fisica 3', 'semestre': 6},\n",
    " 'estudiante_4':{'nombre': 'Luis', 'edad': 19, 'curso': 'Proyectos', 'semestre': 8}              \n",
    "              }\n",
    " "
   ]
  },
  {
   "cell_type": "code",
   "execution_count": 50,
   "metadata": {},
   "outputs": [
    {
     "name": "stdout",
     "output_type": "stream",
     "text": [
      "{'estudiante_1': {'nombre': 'Juan', 'edad': 20, 'curso': 'Fisica 3', 'semestre': 6}, 'estudiante_2': {'nombre': 'Pedro', 'edad': 21, 'curso': 'Fisica 4', 'semestre': 7}, 'estudiante_3': {'nombre': 'Ana', 'edad': 20, 'curso': 'Fisica 3', 'semestre': 6}, 'estudiante_4': {'nombre': 'Luis', 'edad': 19, 'curso': 'Proyectos', 'semestre': 8}}\n"
     ]
    }
   ],
   "source": [
    "# Información total\n",
    "print(estudiantes)"
   ]
  },
  {
   "cell_type": "code",
   "execution_count": 52,
   "metadata": {},
   "outputs": [
    {
     "name": "stdout",
     "output_type": "stream",
     "text": [
      "{'nombre': 'Juan', 'edad': 20, 'curso': 'Fisica 3', 'semestre': 6}\n"
     ]
    }
   ],
   "source": [
    "# Información del estudiante 1\n",
    "print(estudiantes['estudiante_1']) #Etiqueta que hace referencia al estudiante 1"
   ]
  },
  {
   "cell_type": "code",
   "execution_count": 53,
   "metadata": {},
   "outputs": [
    {
     "name": "stdout",
     "output_type": "stream",
     "text": [
      "Juan\n"
     ]
    }
   ],
   "source": [
    "# Nombre del estudiante 1\n",
    "print(estudiantes['estudiante_1']['nombre']) #Etiqueta que hace referencia al estudiante 1 y a su nombre"
   ]
  },
  {
   "cell_type": "markdown",
   "metadata": {},
   "source": [
    "# Creando un diccionario\n"
   ]
  },
  {
   "cell_type": "markdown",
   "metadata": {},
   "source": [
    "1. Para definir un diccionario, se encierra el listado de valores entre llaves. Las parejas de clave y valor se separan con comas, y la clave y el valor se separan con dos puntos."
   ]
  },
  {
   "cell_type": "code",
   "execution_count": 13,
   "metadata": {},
   "outputs": [
    {
     "name": "stdout",
     "output_type": "stream",
     "text": [
      "{'nombre': 'Juan', 'edad': 22, 'cursos': ['ICD', 'Electronica', 'Mecanica']}\n"
     ]
    }
   ],
   "source": [
    "diccionario = {'nombre' : 'Juan', 'edad' : 22, 'cursos': ['ICD','Electronica','Mecanica'] }\n",
    "print(diccionario)"
   ]
  },
  {
   "cell_type": "markdown",
   "metadata": {},
   "source": [
    "2. Podemos acceder al elemento de un Diccionario mediante la clave o *key* de este elemento, como veremos a continuación:"
   ]
  },
  {
   "cell_type": "code",
   "execution_count": 62,
   "metadata": {},
   "outputs": [
    {
     "name": "stdout",
     "output_type": "stream",
     "text": [
      "Juan\n",
      "22\n",
      "['ICD', 'Electronica', 'Mecanica']\n"
     ]
    }
   ],
   "source": [
    "#Juan , 22 ,  ['ICD','Electronica','Mecanica']\n",
    "print(diccionario['nombre'])\n",
    "print(diccionario['edad'])\n",
    "print(diccionario['cursos'])"
   ]
  },
  {
   "cell_type": "markdown",
   "metadata": {},
   "source": [
    "3. También es posible insertar una lista dentro de un diccionario. Para acceder a cada uno de los cursos usamos los índices:"
   ]
  },
  {
   "cell_type": "code",
   "execution_count": 63,
   "metadata": {},
   "outputs": [
    {
     "name": "stdout",
     "output_type": "stream",
     "text": [
      "ICD\n",
      "Electronica\n",
      "Mecanica\n"
     ]
    }
   ],
   "source": [
    "print(diccionario['cursos'][0]) #Acceder al primer curso de la lista cursos\n",
    "print(diccionario['cursos'][1]) #Acceder al segundo curso de la lista cursos\n",
    "print(diccionario['cursos'][2]) #Acceder al segundo curso de la lista cursos"
   ]
  },
  {
   "cell_type": "markdown",
   "metadata": {},
   "source": [
    "4. Para recorrer todo el Diccionario, podemos hacer uso de la estructura for:\n",
    "\n"
   ]
  },
  {
   "cell_type": "code",
   "execution_count": 70,
   "metadata": {},
   "outputs": [
    {
     "name": "stdout",
     "output_type": "stream",
     "text": [
      "key->  nombre    value->  Juan\n",
      "key->  edad    value->  22\n",
      "key->  cursos    value->  ['ICD', 'Electronica', 'Mecanica']\n"
     ]
    }
   ],
   "source": [
    "for iterador in diccionario:\n",
    "    print('key-> ', iterador, '   value-> ', diccionario[iterador]) #Recorre el diccionario tomando clave (en interador), y colocandola en diccionario"
   ]
  },
  {
   "cell_type": "markdown",
   "metadata": {},
   "source": [
    "<div class=\"alert alert-success\">\n",
    "    \n",
    "**Ejericicio**\n",
    "Utilizando el diccionario \"estudiantes\", mostrar los siguientes elementos\n",
    "1. Los nombres de los estudiantes\n",
    "2. El semestre\n",
    "\n",
    "</div>\n",
    "\n",
    "```python\n",
    "estudiantes = {\n",
    " 'estudiante_1':{'nombre': 'Juan', 'edad': 20, 'curso': 'ICD', 'semestre': 6} ,\n",
    " 'estudiante_2':{'nombre': 'Pedro', 'edad': 21, 'curso': 'ICD', 'semestre': 7} ,\n",
    " 'estudiante_3':{'nombre': 'Ana', 'edad': 20, 'curso': 'ICD', 'semestre': 6},\n",
    " 'estudiante_4':{'nombre': 'Luis', 'edad': 19, 'curso': 'ICD', 'semestre': 8}              \n",
    "              }\n",
    "```\n",
    "\n",
    "\n"
   ]
  },
  {
   "cell_type": "code",
   "execution_count": 71,
   "metadata": {},
   "outputs": [],
   "source": [
    "estudiantes = {\n",
    " 'estudiante_1':{'nombre': 'Juan', 'edad': 20, 'curso': 'ICD', 'semestre': 6} ,\n",
    " 'estudiante_2':{'nombre': 'Pedro', 'edad': 21, 'curso': 'ICD', 'semestre': 7} ,\n",
    " 'estudiante_3':{'nombre': 'Ana', 'edad': 20, 'curso': 'ICD', 'semestre': 6},\n",
    " 'estudiante_4':{'nombre': 'Luis', 'edad': 19, 'curso': 'ICD', 'semestre': 8}              \n",
    "              }"
   ]
  },
  {
   "cell_type": "code",
   "execution_count": 80,
   "metadata": {},
   "outputs": [
    {
     "name": "stdout",
     "output_type": "stream",
     "text": [
      "estudiante_1 : Juan\n",
      "estudiante_2 : Pedro\n",
      "estudiante_3 : Ana\n",
      "estudiante_4 : Luis\n"
     ]
    }
   ],
   "source": [
    "for iterador in estudiantes:\n",
    "  print(iterador, ':', estudiantes[iterador]['nombre'])"
   ]
  },
  {
   "cell_type": "code",
   "execution_count": 79,
   "metadata": {},
   "outputs": [
    {
     "name": "stdout",
     "output_type": "stream",
     "text": [
      "estudiante_1 : 6\n",
      "estudiante_2 : 7\n",
      "estudiante_3 : 6\n",
      "estudiante_4 : 8\n"
     ]
    }
   ],
   "source": [
    "for iterador in estudiantes:\n",
    "  print(iterador, ':', estudiantes[iterador]['semestre'])"
   ]
  },
  {
   "cell_type": "code",
   "execution_count": 81,
   "metadata": {},
   "outputs": [
    {
     "name": "stdout",
     "output_type": "stream",
     "text": [
      "Nombre del estudiante:  Juan , Semestre:  6\n",
      "Nombre del estudiante:  Pedro , Semestre:  7\n",
      "Nombre del estudiante:  Ana , Semestre:  6\n",
      "Nombre del estudiante:  Luis , Semestre:  8\n"
     ]
    }
   ],
   "source": [
    "for iterador in estudiantes:\n",
    "    print(\"Nombre del estudiante: \", estudiantes[iterador]['nombre'], \", Semestre: \", estudiantes[iterador]['semestre'])"
   ]
  },
  {
   "cell_type": "markdown",
   "metadata": {},
   "source": [
    "## Métodos de los Diccionarios\n"
   ]
  },
  {
   "cell_type": "markdown",
   "metadata": {},
   "source": [
    "* items()\n",
    "\n",
    "Devuelve una lista de tuplas, cada tupla se compone de dos elementos: el primero será la clave y el segundo su valor (**'Key':Value**).\n"
   ]
  },
  {
   "cell_type": "code",
   "execution_count": null,
   "metadata": {},
   "outputs": [
    {
     "name": "stdout",
     "output_type": "stream",
     "text": [
      "dict_items([('a', 1), ('b', 2), ('c', 3), ('d', 4)])\n"
     ]
    }
   ],
   "source": [
    "dic =   {'a' : 1,  'b' : 2, 'c' : 3 , 'd' : 4}\n",
    "items = dic.items() #Se convierte en lista, pero intenta mantenerlo como diccionaro devolviendo una tupla Clave-Valor\n",
    "\n",
    "print(items)"
   ]
  },
  {
   "cell_type": "markdown",
   "metadata": {},
   "source": [
    "* keys()\n",
    "\n",
    "Retorna una lista de elementos, los cuales serán las claves de nuestro diccionario."
   ]
  },
  {
   "cell_type": "code",
   "execution_count": 83,
   "metadata": {},
   "outputs": [
    {
     "name": "stdout",
     "output_type": "stream",
     "text": [
      "dict_keys(['a', 'b', 'c', 'd'])\n"
     ]
    }
   ],
   "source": [
    "dic =   {'a' : 1,  'b' : 2, 'c' : 3 , 'd' : 4}\n",
    "keys = dic.keys()\n",
    "\n",
    "print(keys)"
   ]
  },
  {
   "cell_type": "markdown",
   "metadata": {},
   "source": [
    "* values()\n",
    "\n",
    "Retorna una lista de elementos, que serán los valores de nuestro diccionario."
   ]
  },
  {
   "cell_type": "code",
   "execution_count": 18,
   "metadata": {},
   "outputs": [
    {
     "name": "stdout",
     "output_type": "stream",
     "text": [
      "dict_values([1, 2, 3, 4])\n"
     ]
    }
   ],
   "source": [
    "dic =   {'a' : 1,  'b' : 2, 'c' : 3 , 'd' : 4}\n",
    "values= dic.values()\n",
    "\n",
    "print(values)"
   ]
  },
  {
   "cell_type": "markdown",
   "metadata": {},
   "source": [
    "* copy()\n",
    "\n",
    "Retorna una copia del diccionario original."
   ]
  },
  {
   "cell_type": "code",
   "execution_count": 84,
   "metadata": {},
   "outputs": [
    {
     "name": "stdout",
     "output_type": "stream",
     "text": [
      "{'a': 1, 'b': 2, 'c': 3, 'd': 4}\n"
     ]
    }
   ],
   "source": [
    "dic =   {'a' : 1,  'b' : 2, 'c' : 3 , 'd' : 4}\n",
    "dic1 = dic.copy()\n",
    "\n",
    "print(dic1)"
   ]
  },
  {
   "cell_type": "markdown",
   "metadata": {},
   "source": [
    "* get()\n",
    "\n",
    "Recibe como parámetro una clave, devuelve el valor de la clave. Si no lo encuentra, devuelve un objeto none."
   ]
  },
  {
   "cell_type": "code",
   "execution_count": 85,
   "metadata": {},
   "outputs": [
    {
     "name": "stdout",
     "output_type": "stream",
     "text": [
      "2\n"
     ]
    }
   ],
   "source": [
    "# Ejemplo de uso de get()\n",
    "diccionario_1 =   {'a' : 1,  'b' : 2, 'c' : 3 , 'd' : 4}\n",
    "print(diccionario_1.get('b'))"
   ]
  },
  {
   "cell_type": "code",
   "execution_count": 88,
   "metadata": {},
   "outputs": [
    {
     "name": "stdout",
     "output_type": "stream",
     "text": [
      "None\n"
     ]
    }
   ],
   "source": [
    "#Probar con get('e')\n",
    "diccionario_1=   {'a' : 1,  'b' : 2, 'c' : 3 , 'd' : 4}\n",
    "print(diccionario_1.get('e'))"
   ]
  },
  {
   "cell_type": "code",
   "execution_count": 93,
   "metadata": {},
   "outputs": [
    {
     "name": "stdout",
     "output_type": "stream",
     "text": [
      "0\n"
     ]
    }
   ],
   "source": [
    "# get('e',0)\n",
    "diccionario_1 =   {'a' : 1,  'b' : 2, 'c' : 3 , 'd' : 4}\n",
    "print(diccionario_1.get('e',0))\n",
    "\n"
   ]
  },
  {
   "cell_type": "markdown",
   "metadata": {},
   "source": [
    "# Ejemplo: Contando elementos con diccionarios\n",
    "\n",
    "Un uso común de los diccionarios es contar que tan frecuente aparece algo\n"
   ]
  },
  {
   "cell_type": "code",
   "execution_count": 23,
   "metadata": {},
   "outputs": [],
   "source": [
    "conteo = {}"
   ]
  },
  {
   "cell_type": "code",
   "execution_count": 24,
   "metadata": {},
   "outputs": [],
   "source": [
    "conteo['Enrique'] = 1"
   ]
  },
  {
   "cell_type": "code",
   "execution_count": 25,
   "metadata": {},
   "outputs": [],
   "source": [
    "conteo['Jose'] = 1"
   ]
  },
  {
   "cell_type": "code",
   "execution_count": 26,
   "metadata": {},
   "outputs": [
    {
     "name": "stdout",
     "output_type": "stream",
     "text": [
      "{'Enrique': 1, 'Jose': 1}\n"
     ]
    }
   ],
   "source": [
    "print(conteo)"
   ]
  },
  {
   "cell_type": "code",
   "execution_count": 27,
   "metadata": {},
   "outputs": [],
   "source": [
    "conteo['Jose'] = conteo['Jose'] + 1"
   ]
  },
  {
   "cell_type": "code",
   "execution_count": 28,
   "metadata": {},
   "outputs": [
    {
     "name": "stdout",
     "output_type": "stream",
     "text": [
      "{'Enrique': 1, 'Jose': 2}\n"
     ]
    }
   ],
   "source": [
    "print(conteo)"
   ]
  },
  {
   "cell_type": "code",
   "execution_count": 94,
   "metadata": {},
   "outputs": [
    {
     "data": {
      "text/plain": [
       "False"
      ]
     },
     "execution_count": 94,
     "metadata": {},
     "output_type": "execute_result"
    }
   ],
   "source": [
    "'Enrique' in conteo"
   ]
  },
  {
   "cell_type": "code",
   "execution_count": 97,
   "metadata": {},
   "outputs": [],
   "source": [
    "conteo = {}\n",
    "nombres = ['Enrique', 'Jose', 'Jose', 'Alejandro', \n",
    "           'Maria', 'Ivan', 'Maria', 'Alberto', 'Pablo', 'Omar', \n",
    "           'Jose',  'Guadalupe', 'Jose', 'Guadalupe', 'Ivan', \n",
    "           'Alberto', 'Guadalupe', 'Maria', 'Enrique', 'Juan', \n",
    "           'Jose', 'Jose', 'Alberto']"
   ]
  },
  {
   "cell_type": "code",
   "execution_count": 100,
   "metadata": {},
   "outputs": [
    {
     "name": "stdout",
     "output_type": "stream",
     "text": [
      "{'Enrique': 4, 'Jose': 12, 'Alejandro': 2, 'Maria': 6, 'Ivan': 4, 'Alberto': 6, 'Pablo': 2, 'Omar': 2, 'Guadalupe': 6, 'Juan': 2}\n"
     ]
    }
   ],
   "source": [
    "#iterando con for\n",
    "for nombre in nombres:\n",
    "    if nombre in conteo:\n",
    "        conteo[nombre] += 1 # Sumar asistencia\n",
    "    else:\n",
    "        conteo[nombre] = 1 #Crear etiqueta si el nombre no estaba en conteo\n",
    "print(conteo)"
   ]
  },
  {
   "cell_type": "code",
   "execution_count": 101,
   "metadata": {},
   "outputs": [
    {
     "data": {
      "image/png": "[encoded data removed]",
      "text/plain": [
       "<Figure size 1200x300 with 1 Axes>"
      ]
     },
     "metadata": {},
     "output_type": "display_data"
    }
   ],
   "source": [
    "import matplotlib.pyplot as plt\n",
    "\n",
    "plt.subplots(figsize=(12, 3))\n",
    "plt.bar(range(len(conteo)), conteo.values(), align='center')\n",
    "plt.xticks(range(len(conteo)), list(conteo.keys()))\n",
    "\n",
    "plt.show()\n"
   ]
  },
  {
   "cell_type": "markdown",
   "metadata": {},
   "source": [
    "##  Simplificando el conteo con get()\n",
    "\n",
    "Los pasos:\n",
    "\n",
    "```python\n",
    "    if nombre in conteo:\n",
    "       x = conteo[nombre]\n",
    "    else :\n",
    "       x = 0\n",
    "``` \n",
    "Son equivalentes a\n",
    "\n",
    "```python\n",
    "   x = conteo.get(nombre, 0)\n",
    "``` \n",
    "\n"
   ]
  },
  {
   "cell_type": "code",
   "execution_count": 102,
   "metadata": {},
   "outputs": [],
   "source": [
    "conteo = {}\n",
    "nombres = ['Enrique', 'Jose', 'Jose', 'Alejandro', \n",
    "           'Maria', 'Ivan', 'Maria', 'Alberto', 'Pablo', 'Omar', \n",
    "           'Jose',  'Guadalupe', 'Jose', 'Guadalupe', 'Ivan', \n",
    "           'Alberto', 'Guadalupe', 'Maria', 'Enrique', 'Juan', \n",
    "           'Jose', 'Jose', 'Alberto']"
   ]
  },
  {
   "cell_type": "code",
   "execution_count": null,
   "metadata": {},
   "outputs": [
    {
     "name": "stdout",
     "output_type": "stream",
     "text": [
      "{'Enrique': 2, 'Jose': 6, 'Alejandro': 1, 'Maria': 3, 'Ivan': 2, 'Alberto': 3, 'Pablo': 1, 'Omar': 1, 'Guadalupe': 3, 'Juan': 1}\n"
     ]
    }
   ],
   "source": [
    "#Utilizando get\n",
    "for nombre in nombres:\n",
    "  conteo[nombre] = conteo.get(nombre, 0) + 1 #Si ya exite da el valor actual + 1, si no existe dara 0 + 1 y se crea la etiqueta\n",
    "print(conteo)"
   ]
  },
  {
   "cell_type": "markdown",
   "metadata": {},
   "source": [
    "## Contando etiquetas\n",
    "\n",
    "La forma más general para contar las palabras en una línea de texto es la de dividir (split) la línea en palabras (lista), a continuación, recorrer las palabras y a través de un diccionario,  encontrar el recuento (get) de cada palabra de manera independiente.\n",
    "\n",
    "``` \n",
    "tres tristes tigres tragaban trigo en un trigal en tres tristes trastos en tres tristes trastos tragaban trigo en un trigal  tres tristes tigres tres tigres\n",
    "``` \n",
    "\n",
    "<img align=\"left\" width=\"200\"  float= \"none\" align=\"middle\" src=\"figuras/tigres.png\">\n",
    "\n",
    "\n"
   ]
  },
  {
   "cell_type": "code",
   "execution_count": null,
   "metadata": {},
   "outputs": [],
   "source": [
    "linea = 'tres tristes tigres tragaban trigo en un trigal en tres tristes trastos en tres tristes trastos tragaban trigo en un trigal tres tristes tigres tres tigres' "
   ]
  },
  {
   "cell_type": "code",
   "execution_count": null,
   "metadata": {},
   "outputs": [
    {
     "name": "stdout",
     "output_type": "stream",
     "text": [
      "Palabras: ['tres', 'tristes', 'tigres', 'tragaban', 'trigo', 'en', 'un', 'trigal', 'en', 'tres', 'tristes', 'trastos', 'en', 'tres', 'tristes', 'trastos', 'tragaban', 'trigo', 'en', 'un', 'trigal', 'tres', 'tristes', 'tigres', 'tres', 'tigres']\n",
      "Comenzando a contar...\n"
     ]
    }
   ],
   "source": [
    "palabras = linea.split()\n",
    "\n",
    "print('Palabras:', palabras)\n",
    "print('Comenzando a contar...')"
   ]
  },
  {
   "cell_type": "code",
   "execution_count": null,
   "metadata": {},
   "outputs": [
    {
     "name": "stdout",
     "output_type": "stream",
     "text": [
      "{'tres': 5, 'tristes': 4, 'tigres': 3, 'tragaban': 2, 'trigo': 2, 'en': 4, 'un': 2, 'trigal': 2, 'trastos': 2}\n"
     ]
    }
   ],
   "source": [
    "#Contar cuantas palabras iguales hay\n",
    "conteos = {}\n",
    "for palabra in palabras:\n",
    "  conteos[palabra] = conteos.get(palabra, 0) + 1 #Si ya exite da el valor actual + 1, si no existe dara 0 + 1 y se crea la etiqueta\n",
    "print(conteos)"
   ]
  },
  {
   "cell_type": "code",
   "execution_count": 119,
   "metadata": {},
   "outputs": [
    {
     "name": "stdout",
     "output_type": "stream",
     "text": [
      "{'tres': 5, 'tristes': 4, 'tigres': 3, 'tragaban': 2, 'trigo': 2, 'en': 4, 'un': 2, 'trigal': 2, 'trastos': 2}\n"
     ]
    }
   ],
   "source": [
    "#Contar cuantas palabras iguales hay - Forma 2\n",
    "contador = {}\n",
    "for palabra in palabras:\n",
    "    if palabra not in contador.keys():\n",
    "        contador[palabra] = 1\n",
    "\n",
    "    else:\n",
    "        contador[palabra] += 1\n",
    "\n",
    "print(contador)"
   ]
  },
  {
   "cell_type": "markdown",
   "metadata": {},
   "source": [
    "##  Listas de Etiquetas y Valores (key-value)\n",
    "\n",
    "Es possible obtener una lista de etiquetas, valores y ambos.\n"
   ]
  },
  {
   "cell_type": "code",
   "execution_count": 129,
   "metadata": {},
   "outputs": [
    {
     "name": "stdout",
     "output_type": "stream",
     "text": [
      "['Enrique', 'Jose', 'Alejandro', 'Maria', 'Ivan', 'Alberto', 'Pablo', 'Omar', 'Guadalupe', 'Juan', 'tres', 'tristes', 'tigres', 'tragaban', 'trigo', 'en', 'un', 'trigal', 'trastos']\n"
     ]
    }
   ],
   "source": [
    "print(list(conteo))"
   ]
  },
  {
   "cell_type": "code",
   "execution_count": 122,
   "metadata": {},
   "outputs": [
    {
     "name": "stdout",
     "output_type": "stream",
     "text": [
      "['Enrique', 'Jose', 'Alejandro', 'Maria', 'Ivan', 'Alberto', 'Pablo', 'Omar', 'Guadalupe', 'Juan', 'tres', 'tristes', 'tigres', 'tragaban', 'trigo', 'en', 'un', 'trigal', 'trastos']\n"
     ]
    }
   ],
   "source": [
    "print(list( conteo.keys() ) )\n"
   ]
  },
  {
   "cell_type": "code",
   "execution_count": 123,
   "metadata": {},
   "outputs": [
    {
     "name": "stdout",
     "output_type": "stream",
     "text": [
      "[2, 6, 1, 3, 2, 3, 1, 1, 3, 1, 5, 4, 3, 2, 2, 4, 2, 2, 2]\n"
     ]
    }
   ],
   "source": [
    "print(list( conteo.values() ) )\n"
   ]
  },
  {
   "cell_type": "code",
   "execution_count": 124,
   "metadata": {},
   "outputs": [
    {
     "name": "stdout",
     "output_type": "stream",
     "text": [
      "[('Enrique', 2), ('Jose', 6), ('Alejandro', 1), ('Maria', 3), ('Ivan', 2), ('Alberto', 3), ('Pablo', 1), ('Omar', 1), ('Guadalupe', 3), ('Juan', 1), ('tres', 5), ('tristes', 4), ('tigres', 3), ('tragaban', 2), ('trigo', 2), ('en', 4), ('un', 2), ('trigal', 2), ('trastos', 2)]\n"
     ]
    }
   ],
   "source": [
    "print(list( conteo.items() ) )\n"
   ]
  },
  {
   "cell_type": "markdown",
   "metadata": {},
   "source": [
    "## Dos variables de iteración en Diccionarios\n",
    "Es posible hacer un ciclo para obtener ambos la etiqueta-valor en parejas,  usando *dos* variables de iteración\n",
    "En cada iteración, la primera variables es la etiqueta y la segunda variable corresponde al valor de la etiqueta"
   ]
  },
  {
   "cell_type": "code",
   "execution_count": 127,
   "metadata": {},
   "outputs": [
    {
     "name": "stdout",
     "output_type": "stream",
     "text": [
      "Enrique 2\n",
      "Jose 6\n",
      "Alejandro 1\n",
      "Maria 3\n",
      "Ivan 2\n",
      "Alberto 3\n",
      "Pablo 1\n",
      "Omar 1\n",
      "Guadalupe 3\n",
      "Juan 1\n",
      "tres 5\n",
      "tristes 4\n",
      "tigres 3\n",
      "tragaban 2\n",
      "trigo 2\n",
      "en 4\n",
      "un 2\n",
      "trigal 2\n",
      "trastos 2\n"
     ]
    }
   ],
   "source": [
    "for key,valor in conteo.items() :\n",
    "    print(key, valor)"
   ]
  },
  {
   "cell_type": "markdown",
   "metadata": {},
   "source": [
    "### ¿Como encontramos el valor mayor con su respectiva etiqueta?"
   ]
  },
  {
   "cell_type": "code",
   "execution_count": 134,
   "metadata": {},
   "outputs": [
    {
     "name": "stdout",
     "output_type": "stream",
     "text": [
      "{'tres': 5, 'tristes': 4, 'tigres': 3, 'tragaban': 2, 'trigo': 10, 'en': 4, 'un': 2, 'trigal': 2, 'trastos': 2}\n"
     ]
    }
   ],
   "source": [
    "conteo={'tres': 5, 'tristes': 4, 'tigres': 3, 'tragaban': 2, 'trigo': 10, 'en': 4, 'un': 2, 'trigal': 2, 'trastos': 2}\n",
    "print(conteo)"
   ]
  },
  {
   "cell_type": "code",
   "execution_count": null,
   "metadata": {},
   "outputs": [
    {
     "name": "stdout",
     "output_type": "stream",
     "text": [
      "Palabra mayor: trigo , con 10 apariciones.\n"
     ]
    }
   ],
   "source": [
    "valor_mayor  = None\n",
    "palabra_mayor = None\n",
    "\n",
    "for palabra, valor in conteo.items(): #Toma clave, valor. [('tres',5), ('tristes',4)]. Palabra = 'tres', valor = 5\n",
    "    if valor_mayor is None or valor > valor_mayor:\n",
    "        valor_mayor = valor\n",
    "        palabra_mayor = palabra\n",
    "\n",
    "print('Palabra mayor:', palabra_mayor, ', con', valor_mayor, 'apariciones.')"
   ]
  },
  {
   "cell_type": "markdown",
   "metadata": {},
   "source": [
    "### ¿Como encontramos el valor mayor con su respectiva etiqueta para un archivo?\n"
   ]
  },
  {
   "cell_type": "code",
   "execution_count": 133,
   "metadata": {},
   "outputs": [],
   "source": [
    "archivo = open('datos/words.txt')\n",
    "\n",
    "frecuencia = {}\n"
   ]
  },
  {
   "cell_type": "code",
   "execution_count": null,
   "metadata": {},
   "outputs": [],
   "source": []
  },
  {
   "cell_type": "code",
   "execution_count": null,
   "metadata": {},
   "outputs": [],
   "source": []
  },
  {
   "cell_type": "code",
   "execution_count": null,
   "metadata": {},
   "outputs": [],
   "source": []
  },
  {
   "cell_type": "code",
   "execution_count": null,
   "metadata": {},
   "outputs": [],
   "source": []
  }
 ],
 "metadata": {
  "kernelspec": {
   "display_name": "3.10.11",
   "language": "python",
   "name": "python3"
  },
  "language_info": {
   "codemirror_mode": {
    "name": "ipython",
    "version": 3
   },
   "file_extension": ".py",
   "mimetype": "text/x-python",
   "name": "python",
   "nbconvert_exporter": "python",
   "pygments_lexer": "ipython3",
   "version": "3.10.11"
  }
 },
 "nbformat": 4,
 "nbformat_minor": 4
}
