{
 "cells": [
  {
   "cell_type": "markdown",
   "metadata": {},
   "source": [
    "<!--Información del curso-->\n",
    "<img align=\"left\" style=\"padding-right:10px;\" src=\"figuras/banner_cd.png\">"
   ]
  },
  {
   "cell_type": "markdown",
   "metadata": {},
   "source": [
    "### Considere ahora los datos de un archivo de velocidades de viento\n"
   ]
  },
  {
   "cell_type": "markdown",
   "metadata": {},
   "source": [
    "Use funciones de arreglos de Numpy sobre diferentes ejes y la indexación para responder las preguntas concernientes al archivo *files/viento.data*.\n",
    "\n",
    "Los datos en el archivo tienen la siguiente forma:\n",
    "\n",
    "<img align=\"left\" width=\"700\"  float= \"none\" align=\"middle\" src=\"figuras/datos_viento2.png\">\n"
   ]
  },
  {
   "cell_type": "markdown",
   "metadata": {},
   "source": [
    "**Las primeras tres columnas son año, mes y día, las 12 columnas restantes son velocidades de viento promedio en nudos de 12 municipios en Yucatán en ese día**. Use la función 'genfromtxt' de numpy para leer los datos:"
   ]
  },
  {
   "cell_type": "code",
   "execution_count": 33,
   "metadata": {},
   "outputs": [
    {
     "name": "stdout",
     "output_type": "stream",
     "text": [
      "(6574, 15)\n"
     ]
    },
    {
     "data": {
      "text/plain": [
       "array([[61.  ,  1.  ,  1.  , ..., 12.58, 18.5 , 15.04],\n",
       "       [61.  ,  1.  ,  2.  , ...,  9.67, 17.54, 13.83],\n",
       "       [61.  ,  1.  ,  3.  , ...,  7.67, 12.75, 12.71],\n",
       "       ...,\n",
       "       [78.  , 12.  , 29.  , ..., 16.42, 18.88, 29.58],\n",
       "       [78.  , 12.  , 30.  , ..., 12.12, 14.67, 28.79],\n",
       "       [78.  , 12.  , 31.  , ..., 11.38, 12.08, 22.08]], shape=(6574, 15))"
      ]
     },
     "execution_count": 33,
     "metadata": {},
     "output_type": "execute_result"
    }
   ],
   "source": [
    "#Importar los datos\n",
    "from numpy import genfromtxt\n",
    "my_data = genfromtxt('datos/viento.csv')\n",
    "print(my_data.shape)\n",
    "my_data"
   ]
  },
  {
   "cell_type": "markdown",
   "metadata": {},
   "source": [
    "<div class=\"alert alert-success\">  \n",
    "    \n",
    "1. (Ejemplo)  Encuentre la velocidad de viento mínima, máxima, el promedio  y la desviación estándar para **el primer municipio durante todos los días** . \n",
    "\n",
    "</div> "
   ]
  },
  {
   "cell_type": "code",
   "execution_count": 34,
   "metadata": {},
   "outputs": [
    {
     "name": "stdout",
     "output_type": "stream",
     "text": [
      "mínima: 0.67\n",
      "máxima: 35.8\n",
      "promedio: 12.363714633404323\n",
      "desviación estándar: 5.619183006341271\n"
     ]
    }
   ],
   "source": [
    "import numpy as np\n",
    "\n",
    "municipio = []\n",
    "for datos in range(my_data.shape[0]):\n",
    "    dia = my_data[datos]\n",
    "    municipio_viento = dia[3]\n",
    "    municipio.append(municipio_viento)\n",
    "\n",
    "print(\"mínima:\", np.min(municipio))\n",
    "print(\"máxima:\", np.max(municipio))\n",
    "print(\"promedio:\", np.mean(municipio))\n",
    "print(\"desviación estándar:\", np.std(municipio))"
   ]
  },
  {
   "cell_type": "markdown",
   "metadata": {},
   "source": [
    "<div class=\"alert alert-success\">   \n",
    "    \n",
    "2. ¿Cuantos elementos en total tiene, asi como número de filas y columnas en el arreglo *my_data* ?. \n",
    "    \n",
    "</div> "
   ]
  },
  {
   "cell_type": "code",
   "execution_count": 35,
   "metadata": {},
   "outputs": [
    {
     "name": "stdout",
     "output_type": "stream",
     "text": [
      "Elementos totales:  98610\n",
      "Numero de filas:  6574\n",
      "Numero de columnas:  15\n"
     ]
    }
   ],
   "source": [
    "print(\"Elementos totales: \", my_data.size)\n",
    "print(\"Numero de filas: \", my_data.shape[0])\n",
    "print(\"Numero de columnas: \", my_data.shape[1])"
   ]
  },
  {
   "cell_type": "markdown",
   "metadata": {},
   "source": [
    "<div class=\"alert alert-success\">   \n",
    "    \n",
    "3.  Encuentre la velocidad de viento mínima, máxima, el promedio  y la desviación estándar  en **considerando todos los municipios y  durante todos los días** . \n",
    "    \n",
    "</div> \n",
    "\n",
    " "
   ]
  },
  {
   "cell_type": "code",
   "execution_count": 36,
   "metadata": {},
   "outputs": [
    {
     "name": "stdout",
     "output_type": "stream",
     "text": [
      "mínima: 0.0\n",
      "máxima: 42.54\n",
      "promedio: 10.22837377040868\n",
      "desviación estándar: 5.603840181095793\n"
     ]
    }
   ],
   "source": [
    "viento_total = []\n",
    "for datos in range(my_data.shape[0]):\n",
    "    dia = my_data[datos]\n",
    "    viento_dia = list(dia[3:16])\n",
    "    viento_total = viento_total + viento_dia\n",
    "\n",
    "print(\"mínima:\", np.min(viento_total))\n",
    "print(\"máxima:\", np.max(viento_total))\n",
    "print(\"promedio:\", np.mean(viento_total))\n",
    "print(\"desviación estándar:\", np.std(viento_total))"
   ]
  },
  {
   "cell_type": "markdown",
   "metadata": {},
   "source": [
    "<div class=\"alert alert-success\">   \n",
    "    \n",
    "4. Encuentre las velocidades de viento mínimas, máximas, promedios y las desviaciones estándar **en cada municipio durante todos los días**\n",
    "   \n",
    "</div> \n"
   ]
  },
  {
   "cell_type": "code",
   "execution_count": 37,
   "metadata": {},
   "outputs": [
    {
     "name": "stdout",
     "output_type": "stream",
     "text": [
      "Municipio 1\n",
      "mínima: 0.67\n",
      "máxima: 35.8\n",
      "promedio: 12.363714633404323\n",
      "desviación estándar: 5.619183006341271\n",
      "\n",
      "Municipio 2\n",
      "mínima: 0.21\n",
      "máxima: 33.37\n",
      "promedio: 10.646448128993002\n",
      "desviación estándar: 5.268200805471822\n",
      "\n",
      "Municipio 3\n",
      "mínima: 1.5\n",
      "máxima: 33.84\n",
      "promedio: 11.660103437785216\n",
      "desviación estándar: 5.007383774176851\n",
      "\n",
      "Municipio 4\n",
      "mínima: 0.0\n",
      "máxima: 28.46\n",
      "promedio: 6.306274718588379\n",
      "desviación estándar: 3.605133088517408\n",
      "\n",
      "Municipio 5\n",
      "mínima: 0.13\n",
      "máxima: 37.54\n",
      "promedio: 10.456880133860663\n",
      "desviación estándar: 4.935363328283329\n",
      "\n",
      "Municipio 6\n",
      "mínima: 0.0\n",
      "máxima: 26.16\n",
      "promedio: 7.092254335260115\n",
      "desviación estándar: 3.96838125699188\n",
      "\n",
      "Municipio 7\n",
      "mínima: 0.0\n",
      "máxima: 30.37\n",
      "promedio: 9.796834499543657\n",
      "desviación estándar: 4.976893738542981\n",
      "\n",
      "Municipio 8\n",
      "mínima: 0.0\n",
      "máxima: 31.08\n",
      "promedio: 8.494420444174018\n",
      "desviación estándar: 4.498657828809353\n",
      "\n",
      "Municipio 9\n",
      "mínima: 0.0\n",
      "máxima: 25.88\n",
      "promedio: 8.495818375418313\n",
      "desviación estándar: 4.16746100596694\n",
      "\n",
      "Municipio 10\n",
      "mínima: 0.04\n",
      "máxima: 28.21\n",
      "promedio: 8.707268025555218\n",
      "desviación estándar: 4.50327221957127\n",
      "\n",
      "Municipio 11\n",
      "mínima: 0.13\n",
      "máxima: 42.38\n",
      "promedio: 13.121006997261942\n",
      "desviación estándar: 5.834593187148443\n",
      "\n",
      "Municipio 12\n",
      "mínima: 0.67\n",
      "máxima: 42.54\n",
      "promedio: 15.599461515059325\n",
      "desviación estándar: 6.6973471912183715\n",
      "\n"
     ]
    }
   ],
   "source": [
    "viento_municipio = {}\n",
    "for datos in range(my_data.shape[0]):\n",
    "    dia = my_data[datos]\n",
    "    \n",
    "    for dato in range(3, 15): # Recorremos las columnas de la 3 a la 14 (índices 3 al 14 inclusive)\n",
    "        if viento_municipio.get(dato-2) is None:\n",
    "            viento_municipio[dato-2] = []\n",
    "        viento_municipio[dato-2].append(dia[dato]) # Agregamos el valor de viento de ese día para el municipio correspondiente\n",
    "\n",
    "for id_municipio, viento in viento_municipio.items():\n",
    "    print(f\"Municipio {id_municipio}\")\n",
    "    print(\"mínima:\", np.min(viento))\n",
    "    print(\"máxima:\", np.max(viento))\n",
    "    print(\"promedio:\", np.mean(viento))\n",
    "    print(\"desviación estándar:\", np.std(viento))\n",
    "    print()\n"
   ]
  },
  {
   "cell_type": "markdown",
   "metadata": {},
   "source": [
    "<div class=\"alert alert-success\">   \n",
    "    \n",
    "5.  Encuentre el año, mes y día en que se registró la mayor velocidad del viento.    \n",
    "\n",
    "</div> "
   ]
  },
  {
   "cell_type": "code",
   "execution_count": 38,
   "metadata": {},
   "outputs": [
    {
     "name": "stdout",
     "output_type": "stream",
     "text": [
      "año: 1966\n",
      "mes: 12\n",
      "día: 2\n",
      "velocidad de viento: 42.54\n"
     ]
    }
   ],
   "source": [
    "max_viento = 0\n",
    "fecha_max_viento = []\n",
    "\n",
    "for datos in range(my_data.shape[0]):\n",
    "    dia = my_data[datos]\n",
    "    # Calculamos la velocidad máxima de viento del día (columnas 3 a 15)\n",
    "    max_viento_dia = np.max(list(dia[3:16]))\n",
    "\n",
    "    # Si el viento máximo de este día supera al registrado hasta ahora, lo actualizamos\n",
    "    if max_viento_dia > max_viento:\n",
    "        max_viento = max_viento_dia\n",
    "        fecha_max_viento = dia[:3]  # Guardamos año, mes, día\n",
    "\n",
    "# Se convierte la fecha a arreglo de enteros pequeños\n",
    "fecha_max_viento = np.array(fecha_max_viento, dtype='int8')\n",
    "\n",
    "print(\"año:\", f\"19{fecha_max_viento[0]}\")\n",
    "print(\"mes:\", fecha_max_viento[1])\n",
    "print(\"día:\", fecha_max_viento[2])\n",
    "print(\"velocidad de viento:\", max_viento)\n"
   ]
  }
 ],
 "metadata": {
  "kernelspec": {
   "display_name": "3.10.11",
   "language": "python",
   "name": "python3"
  },
  "language_info": {
   "codemirror_mode": {
    "name": "ipython",
    "version": 3
   },
   "file_extension": ".py",
   "mimetype": "text/x-python",
   "name": "python",
   "nbconvert_exporter": "python",
   "pygments_lexer": "ipython3",
   "version": "3.10.11"
  }
 },
 "nbformat": 4,
 "nbformat_minor": 4
}
