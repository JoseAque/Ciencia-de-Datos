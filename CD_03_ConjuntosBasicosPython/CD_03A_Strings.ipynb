{
 "cells": [
  {
   "cell_type": "markdown",
   "metadata": {},
   "source": [
    "<!--Información del curso-->\n",
    "<img align=\"left\" style=\"padding-right:10px;\" src=\"figuras/logo_cd.png\">"
   ]
  },
  {
   "cell_type": "markdown",
   "metadata": {},
   "source": [
    "<center><h1 style=\"font-size:2em;color:#2467C0\"> Strings  </h1></center>\n",
    "<br>\n",
    "<table>\n",
    "<col width=\"550\">\n",
    "<col width=\"450\">\n",
    "<tr>\n",
    "<td><img src=\"figuras/hello.png\" align=\"middle\" style=\"width:300px\"/></td>\n",
    "<td>\n",
    "    \n",
    "    \n",
    "El tipo *string* es una secuencia inmutable de caracteres, es decir no se puede modificar después de haber sido creado. Como el resto de tipos secuencia en Python, podemos acceder a los caracteres de un *string* a través de un índice numérico\n",
    "\n",
    "</td>\n",
    "</tr>\n",
    "</table>"
   ]
  },
  {
   "cell_type": "markdown",
   "metadata": {},
   "source": [
    "# Strings en python\n",
    "\n",
    "La clase `str` en Python se utiliza para representar texto, más conocido en el mundo de la programación como *string* o *cadena de caracteres*.\n"
   ]
  },
  {
   "cell_type": "markdown",
   "metadata": {},
   "source": [
    "## 1. ¿Cómo crear una cadena en Python?\n",
    "\n",
    "Crear una cadena de texto en Python simplemente encierra una secuencia de caracteres entre comillas simples '' o dobles \"\".\n",
    "\n",
    "\n",
    "```python\n",
    "saludo = 'Hola Mundo'\n",
    "type(saludo)\n",
    "```\n",
    "\n"
   ]
  },
  {
   "cell_type": "code",
   "execution_count": 3,
   "metadata": {},
   "outputs": [
    {
     "data": {
      "text/plain": [
       "str"
      ]
     },
     "execution_count": 3,
     "metadata": {},
     "output_type": "execute_result"
    }
   ],
   "source": [
    "saludo = 'Hola Mundo'\n",
    "type(saludo)"
   ]
  },
  {
   "cell_type": "markdown",
   "metadata": {},
   "source": [
    "## 2. Cómo acceder a los caracteres de un string en Python\n",
    "\n",
    "Como el resto de tipos secuencia, podemos acceder a los caracteres de una cadena a través de un índice numérico. Un índice es un número entero que indica la posición de un carácter en la cadena. Siempre el primer carácter de la secuencia tiene como índice 0. \n",
    "Los índices también puede ser negativos. En este caso, el índice -1 hace referencia al último carácter, -2 al penúltimo, y así, sucesivamente.\n",
    "\n"
   ]
  },
  {
   "cell_type": "markdown",
   "metadata": {},
   "source": [
    "<img src=\"figuras/hello.png\" align=\"middle\" style=\"width:450px\"/>\n"
   ]
  },
  {
   "cell_type": "code",
   "execution_count": 4,
   "metadata": {},
   "outputs": [],
   "source": [
    "saludo = 'Hello'"
   ]
  },
  {
   "cell_type": "code",
   "execution_count": 5,
   "metadata": {},
   "outputs": [
    {
     "data": {
      "text/plain": [
       "'H'"
      ]
     },
     "execution_count": 5,
     "metadata": {},
     "output_type": "execute_result"
    }
   ],
   "source": [
    "# probar indice 0\n",
    "saludo[0]"
   ]
  },
  {
   "cell_type": "code",
   "execution_count": 6,
   "metadata": {},
   "outputs": [
    {
     "data": {
      "text/plain": [
       "'o'"
      ]
     },
     "execution_count": 6,
     "metadata": {},
     "output_type": "execute_result"
    }
   ],
   "source": [
    "# probar indice 4\n",
    "saludo[4]"
   ]
  },
  {
   "cell_type": "code",
   "execution_count": 7,
   "metadata": {},
   "outputs": [
    {
     "data": {
      "text/plain": [
       "'e'"
      ]
     },
     "execution_count": 7,
     "metadata": {},
     "output_type": "execute_result"
    }
   ],
   "source": [
    "# probar indice -4\n",
    "saludo[-4]"
   ]
  },
  {
   "cell_type": "code",
   "execution_count": 8,
   "metadata": {},
   "outputs": [
    {
     "data": {
      "text/plain": [
       "'o'"
      ]
     },
     "execution_count": 8,
     "metadata": {},
     "output_type": "execute_result"
    }
   ],
   "source": [
    "# probar indice -1\n",
    "saludo[-1]"
   ]
  },
  {
   "cell_type": "code",
   "execution_count": 9,
   "metadata": {},
   "outputs": [],
   "source": [
    "# probar indice 6\n",
    "#Da error porque el string tiene 5 caracteres (0 a 4)\n",
    "#saludo[6]"
   ]
  },
  {
   "cell_type": "markdown",
   "metadata": {},
   "source": [
    "## 3. Longitud de la string \n",
    "\n",
    "Como con cualquier secuencia en Python, para obtener la longitud de una cadena se debe utilizar la función de Python `len()`. A esta función se le pasa como argumento la cadena en cuestión y nos devolverá el número de caracteres que tiene.\n",
    "\n"
   ]
  },
  {
   "cell_type": "code",
   "execution_count": 10,
   "metadata": {},
   "outputs": [],
   "source": [
    "saludo = 'Hello'"
   ]
  },
  {
   "cell_type": "code",
   "execution_count": 11,
   "metadata": {},
   "outputs": [
    {
     "data": {
      "text/plain": [
       "5"
      ]
     },
     "execution_count": 11,
     "metadata": {},
     "output_type": "execute_result"
    }
   ],
   "source": [
    "len(saludo)"
   ]
  },
  {
   "cell_type": "code",
   "execution_count": null,
   "metadata": {},
   "outputs": [],
   "source": []
  },
  {
   "cell_type": "markdown",
   "metadata": {},
   "source": [
    " ## 4. Recorrer los caracteres de un string"
   ]
  },
  {
   "cell_type": "markdown",
   "metadata": {},
   "source": [
    "### Con el ciclo _for_\n",
    "En Python es posible recorrer todos los caracteres de una cadena usando la sentencia *for*. Para ello, lo más fácil es seguir la siguiente plantilla:\n",
    "\n",
    "```python\n",
    "saludo = 'Hola Mundo'\n",
    "for letra in saludo:\n",
    "    print(letra)\n",
    "```\n",
    "\n"
   ]
  },
  {
   "cell_type": "code",
   "execution_count": 12,
   "metadata": {},
   "outputs": [
    {
     "name": "stdout",
     "output_type": "stream",
     "text": [
      "H\n",
      "o\n",
      "l\n",
      "a\n",
      " \n",
      "M\n",
      "u\n",
      "n\n",
      "d\n",
      "o\n"
     ]
    }
   ],
   "source": [
    "\n",
    "saludo = 'Hola Mundo'\n",
    "for letra in saludo:\n",
    "    print(letra)    "
   ]
  },
  {
   "cell_type": "markdown",
   "metadata": {},
   "source": [
    "\n"
   ]
  },
  {
   "cell_type": "markdown",
   "metadata": {},
   "source": [
    "## 5. Más operaciones con strings"
   ]
  },
  {
   "cell_type": "markdown",
   "metadata": {},
   "source": [
    "### Concatenación de strings\n",
    "\n",
    "En Python existen varias formas de concatenar dos o más objetos de tipo string. La más sencilla es usar el operador `+` Concatenar dos o más strings con el operador `+` da como resultado un nuevo *string*.\n",
    "\n",
    "\n",
    "```python\n",
    "a = 'Hello'\n",
    "b = a + 'World' \n",
    "print(b)\n",
    "```\n",
    "\n"
   ]
  },
  {
   "cell_type": "code",
   "execution_count": 13,
   "metadata": {},
   "outputs": [
    {
     "name": "stdout",
     "output_type": "stream",
     "text": [
      "Hola Mundo\n"
     ]
    }
   ],
   "source": [
    "a = 'Hola'\n",
    "b = a + ' Mundo'\n",
    "print(b)"
   ]
  },
  {
   "cell_type": "code",
   "execution_count": null,
   "metadata": {},
   "outputs": [],
   "source": []
  },
  {
   "cell_type": "code",
   "execution_count": null,
   "metadata": {},
   "outputs": [],
   "source": []
  },
  {
   "cell_type": "markdown",
   "metadata": {},
   "source": [
    "### Comprobar si un carácter está en una cadena en Python\n",
    "\n",
    "Para comprobar si un carácter está contenido en una cadena, utiliza el operador de pertenencia `in`. Esto nos devolverá `True` si al menos hay una ocurrencia del carácter en el string o `False` en caso contrario."
   ]
  },
  {
   "cell_type": "code",
   "execution_count": 14,
   "metadata": {},
   "outputs": [],
   "source": [
    "fruta = 'banana'"
   ]
  },
  {
   "cell_type": "code",
   "execution_count": 15,
   "metadata": {},
   "outputs": [
    {
     "data": {
      "text/plain": [
       "True"
      ]
     },
     "execution_count": 15,
     "metadata": {},
     "output_type": "execute_result"
    }
   ],
   "source": [
    "#Probar 'a'\n",
    "'a' in 'banana'"
   ]
  },
  {
   "cell_type": "code",
   "execution_count": 16,
   "metadata": {},
   "outputs": [
    {
     "data": {
      "text/plain": [
       "False"
      ]
     },
     "execution_count": 16,
     "metadata": {},
     "output_type": "execute_result"
    }
   ],
   "source": [
    "#Probar 'ma'\n",
    "'ma' in 'banana'"
   ]
  },
  {
   "cell_type": "code",
   "execution_count": 17,
   "metadata": {},
   "outputs": [
    {
     "data": {
      "text/plain": [
       "False"
      ]
     },
     "execution_count": 17,
     "metadata": {},
     "output_type": "execute_result"
    }
   ],
   "source": [
    "#Probar 'BA'\n",
    "'BA' in 'banana'"
   ]
  },
  {
   "cell_type": "code",
   "execution_count": 18,
   "metadata": {},
   "outputs": [
    {
     "data": {
      "text/plain": [
       "True"
      ]
     },
     "execution_count": 18,
     "metadata": {},
     "output_type": "execute_result"
    }
   ],
   "source": [
    "#Probar 'ban'\n",
    "'ban' in 'banana'"
   ]
  },
  {
   "cell_type": "markdown",
   "metadata": {},
   "source": [
    "<div class=\"alert alert-success\">\n",
    "    \n",
    "**Ejericicio**\n",
    "    \n",
    "Hacer un codigo que imprima \"Si se encuentra!\"  en caso de encontrar el string \"san\".\n",
    "    \n",
    "Input:  \n",
    "fruta = 'sandia'\n",
    "    \n",
    "Output:\n",
    "    \n",
    "Si se encuentra!\n",
    "\n",
    "    \n",
    "</div>\n",
    "\n"
   ]
  },
  {
   "cell_type": "code",
   "execution_count": 19,
   "metadata": {},
   "outputs": [
    {
     "name": "stdout",
     "output_type": "stream",
     "text": [
      "Si se encuentra!\n"
     ]
    }
   ],
   "source": [
    "fruta = 'sandia'\n",
    "if 'san' in fruta:\n",
    "    print('Si se encuentra!')\n",
    "else:\n",
    "    print('No se encuentra!')\n"
   ]
  },
  {
   "cell_type": "markdown",
   "metadata": {},
   "source": [
    "### Funciones find y split\n",
    "\n",
    "La función `find()` se utiliza para buscar la primera aparición de un subtexto dentro de una cadena. Devuelve el índice de la posición en la que se encuentra la primera ocurrencia del subtexto, o devuelve -1 si no se encuentra en la cadena.\n"
   ]
  },
  {
   "cell_type": "code",
   "execution_count": 20,
   "metadata": {},
   "outputs": [],
   "source": [
    "saludo = 'Hola , Mundo - ABCD , Python , XYZ - diplomado'"
   ]
  },
  {
   "cell_type": "code",
   "execution_count": 21,
   "metadata": {},
   "outputs": [
    {
     "data": {
      "text/plain": [
       "41"
      ]
     },
     "execution_count": 21,
     "metadata": {},
     "output_type": "execute_result"
    }
   ],
   "source": [
    "#probar 'u'\n",
    "\n",
    "saludo.find('u')\n",
    "saludo.find('o', 27)"
   ]
  },
  {
   "cell_type": "code",
   "execution_count": 22,
   "metadata": {},
   "outputs": [
    {
     "data": {
      "text/plain": [
       "7"
      ]
     },
     "execution_count": 22,
     "metadata": {},
     "output_type": "execute_result"
    }
   ],
   "source": [
    "#Probar 'Mun'\n",
    "saludo.find('Mun')"
   ]
  },
  {
   "cell_type": "code",
   "execution_count": 23,
   "metadata": {},
   "outputs": [
    {
     "data": {
      "text/plain": [
       "-1"
      ]
     },
     "execution_count": 23,
     "metadata": {},
     "output_type": "execute_result"
    }
   ],
   "source": [
    "#Probar 'w'\n",
    "saludo.find('w')"
   ]
  },
  {
   "cell_type": "markdown",
   "metadata": {},
   "source": [
    "La función `split()` se utiliza para dividir una cadena en una lista de subcadenas, utilizando un carácter delimitador como referencia. El carácter delimitador se utiliza para separar la cadena en diferentes partes."
   ]
  },
  {
   "cell_type": "code",
   "execution_count": 24,
   "metadata": {},
   "outputs": [],
   "source": [
    "# Probar split() en saludo\n",
    "saludo = 'Hola , Mundo - ABCD , Python , XYZ - diplomado'"
   ]
  },
  {
   "cell_type": "code",
   "execution_count": 25,
   "metadata": {},
   "outputs": [
    {
     "name": "stdout",
     "output_type": "stream",
     "text": [
      "['Hola', ',', 'Mundo', '-', 'ABCD', ',', 'Python', ',', 'XYZ', '-', 'diplomado']\n"
     ]
    }
   ],
   "source": [
    "# Probar split(',') en saludo\n",
    "#saludo.split(',')\n",
    "print(saludo.split())"
   ]
  },
  {
   "cell_type": "code",
   "execution_count": 26,
   "metadata": {},
   "outputs": [
    {
     "data": {
      "text/plain": [
       "['Hola , Mundo ', ' ABCD , Python , XYZ ', ' diplomado']"
      ]
     },
     "execution_count": 26,
     "metadata": {},
     "output_type": "execute_result"
    }
   ],
   "source": [
    "# Probar split('-') en saludo\n",
    "saludo.split('-')"
   ]
  },
  {
   "cell_type": "code",
   "execution_count": 27,
   "metadata": {},
   "outputs": [
    {
     "data": {
      "text/plain": [
       "['H', 'la , Mund', ' - ABCD , Pyth', 'n , XYZ - dipl', 'mad', '']"
      ]
     },
     "execution_count": 27,
     "metadata": {},
     "output_type": "execute_result"
    }
   ],
   "source": [
    "# Probar split('o') en saludo\n",
    "saludo.split('o')"
   ]
  },
  {
   "cell_type": "markdown",
   "metadata": {},
   "source": [
    "<div class=\"alert alert-success\">\n",
    "    \n",
    "**Ejericicio**\n",
    "    \n",
    "Encontrar el host de los corres de llegada a una empresa \n",
    "\n",
    "\n",
    "    \n",
    "</div>\n",
    "\n",
    "\n",
    "```html\n",
    "input:\n",
    "From enrique.camacho@uady.com Sat Jan  5 09:14:16 2023\n",
    "\n",
    "output 1:\n",
    "uady.com\n",
    "\n",
    "output 2:\n",
    "uady \n",
    "\n",
    "``` \n",
    "\n"
   ]
  },
  {
   "cell_type": "code",
   "execution_count": 28,
   "metadata": {},
   "outputs": [],
   "source": [
    "data = 'From enrique.camacho@uady.com Sat Jan  5 09:14:16 2023'"
   ]
  },
  {
   "cell_type": "code",
   "execution_count": 33,
   "metadata": {},
   "outputs": [
    {
     "name": "stdout",
     "output_type": "stream",
     "text": [
      "['From', 'enrique.camacho@uady.com', 'Sat', 'Jan', '5', '09:14:16', '2023']\n"
     ]
    },
    {
     "data": {
      "text/plain": [
       "'enrique.camacho@uady.com'"
      ]
     },
     "execution_count": 33,
     "metadata": {},
     "output_type": "execute_result"
    }
   ],
   "source": [
    "print(data.split())\n",
    "data.split()[1] # Extraer el nombre de usuario"
   ]
  },
  {
   "cell_type": "code",
   "execution_count": 30,
   "metadata": {},
   "outputs": [
    {
     "data": {
      "text/plain": [
       "'uady.com'"
      ]
     },
     "execution_count": 30,
     "metadata": {},
     "output_type": "execute_result"
    }
   ],
   "source": [
    "data.split()[1].split('@')[1]"
   ]
  },
  {
   "cell_type": "code",
   "execution_count": 31,
   "metadata": {},
   "outputs": [
    {
     "data": {
      "text/plain": [
       "'uady'"
      ]
     },
     "execution_count": 31,
     "metadata": {},
     "output_type": "execute_result"
    }
   ],
   "source": [
    "data.split()[1].split('@')[1].split('.')[0]"
   ]
  },
  {
   "cell_type": "code",
   "execution_count": null,
   "metadata": {},
   "outputs": [],
   "source": []
  },
  {
   "cell_type": "code",
   "execution_count": null,
   "metadata": {},
   "outputs": [],
   "source": []
  }
 ],
 "metadata": {
  "kernelspec": {
   "display_name": "3.10.11",
   "language": "python",
   "name": "python3"
  },
  "language_info": {
   "codemirror_mode": {
    "name": "ipython",
    "version": 3
   },
   "file_extension": ".py",
   "mimetype": "text/x-python",
   "name": "python",
   "nbconvert_exporter": "python",
   "pygments_lexer": "ipython3",
   "version": "3.10.11"
  }
 },
 "nbformat": 4,
 "nbformat_minor": 4
}
