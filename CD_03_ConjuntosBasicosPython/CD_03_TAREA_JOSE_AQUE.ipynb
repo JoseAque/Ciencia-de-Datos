{
 "cells": [
  {
   "cell_type": "markdown",
   "metadata": {},
   "source": [
    "<!--Información del curso-->\n",
    "<img align=\"left\" style=\"padding-right:10px;\" src=\"figuras/logo_ciencia_datos.png\">"
   ]
  },
  {
   "cell_type": "markdown",
   "metadata": {},
   "source": [
    "# Librerías"
   ]
  },
  {
   "cell_type": "markdown",
   "metadata": {
    "collapsed": true
   },
   "source": [
    "Cargamos las bibliotecas que necesitamos "
   ]
  },
  {
   "cell_type": "code",
   "execution_count": 1,
   "metadata": {},
   "outputs": [],
   "source": [
    "import csv\n",
    "import matplotlib.pyplot as plt"
   ]
  },
  {
   "cell_type": "code",
   "execution_count": 2,
   "metadata": {},
   "outputs": [
    {
     "name": "stdout",
     "output_type": "stream",
     "text": [
      "[['1', 'Rodrigo Alejandro', 'Aguilar Rosel', 'Renovables', '9', 'rodrigo12@gmail.com', '59'], ['2', 'Miguel Isaac ', 'Arroyo Velazquez', 'Fisica', '7', 'arroyov@gmail.com', '86'], ['3', 'Nohely', 'Badillo Castillo', 'Fisica', '7', 'nohely_92@gmail.com', '94'], ['4', 'Julio de jesus', 'Basto Clavijo', 'Mecatronica', '10', 'juliobasti@hotmail.com', '79'], ['5', 'Zaazil Ha', 'Cabreja Burgos', 'Fisica', '9', 'zazicab@gmail.com', '100'], ['6', 'Fernando Humberto', 'Carrillo Berdugo', 'Fisica', '9', 'fernandocarrillo@gmail.com', '36'], ['7', 'Edwin Alberto', 'Castillo Herrera', 'Mecatronica', '9', 'castilloherrera96@gmail.com', '77'], ['8', 'Eduardo Alonso', 'Catzin Uc', 'Fisica', '5', 'eduardocatzin@gmail.com', '95'], ['9', 'Dario de Jesus', 'Chan Colli', 'Fisica', '5', 'dariocha@gmail.com', '97'], ['10', 'Abril Guadalupe', 'Chan Gallegos', 'Fisica', '9', 'itsab@gmail.com', '84'], ['11', 'Alexa Amairani', 'Dominguez Salazar', 'Mecatronica', '10', 'a1411@alumnos.uady.mx', '83'], ['12', 'Guillermo Agustin', 'Dzib Duran', 'Mecatronica', '9', 'guillerm@hotmail.com', '97'], ['13', 'Maria del Carmen', 'Esteban Castro', 'Fisica', '6', 'marias@gmail.com', '45'], ['14', 'Rafael Eduardo', 'Flores Pat', 'Mecatronica', '10', 'ref@hotmail.com', '83'], ['15', 'Saul Eliseo', 'Gamboa Leon', 'Fisica', '5', 'saul.eliseo1g@gmail.com', '50'], ['16', 'Ricardo Andres', 'Hernandez Esperon', 'Renovables', '9', 'ricardohernandeze182@gmail.com', '84'], ['17', 'Sergio Alonso', 'Lopez Fuentes', 'Fisica', '9', 'iol99@gmail.com', '26'], ['18', 'Eric Josue ', 'Manzanilla Careaga', 'Fisica', '6', 'ericmanzanil@gmail.com', '98'], ['19', 'Raul Isaac', 'Mercado Sandoval', 'Mecatronica', '10', 'raulmercadosan@gmail.com', '66'], ['20', 'Fernando Antonio', 'Mora Cruz', 'Renovables', '6', 'fernan@hotmail.com', '79'], ['21', 'Jimena', 'Ochoa Mancilla', 'Fisica', '7', 'ochoa97@gmail.com', '52'], ['22', 'Jose Rodrigo ', 'Orozco Chac', 'Fisica', '9', 'rodrig@gmail.com', '53'], ['23', 'Bruno', 'Perez Hernandez', 'Fisica', '5', 'bp5179@gmail.com', '77'], ['24', 'Jose Angel', 'Puc Ciau', 'Mecatronica', '10', 'jose.puc@gmail.com', '80'], ['25', 'Carmen Andrea', 'Rivera Martinez', 'Fisica', '5', 'carmen.r@hotmail.com', '68'], ['26', 'Hazael', 'Rivero Canul', 'Mecatronica', '9', 'ritohazae@gmail.com', '66'], ['27', 'Laura Paola', 'Rocha Villarino', 'Fisica', '7', 'paol@hotmail.com', '76'], ['28', 'Omar Yamil', 'Rodriguez Gamboa', 'Renovables', '9', 'omary@gmail.com', '95'], ['29', 'Dulce Mariana', 'Romero Quezada', 'Fisica', '5', 'soymariana@gmail.com', '83'], ['30', 'Ariel Alejandro', 'Ruiz Ramirez', 'Fisica', '10', 'ruizrr@gmail.com', '86'], ['31', 'Rafael Jesus ', 'Salazar Magana', 'Mecatronica', '9', 'smrafael@gmail.com', '70'], ['32', 'Alejandro', 'Santoscoy Rivero', 'Fisica', '5', 'alesanc@hotmail.com', '65'], ['33', 'Luis Ernesto', 'Sevilla Sarao', 'Renovables', '9', 'sevillaerne@gmail.com', '69'], ['34', 'Alan David ', 'Vargas Saenz', 'Renovables', '9', 'alandavs@gmail.com', '83'], ['35', 'Rafael ', 'Vega Can', 'Mecatronica', '10', 'rafaelve@gmail.com', '97']]\n"
     ]
    }
   ],
   "source": [
    "with open('datos/lista_estudiantes.csv') as archivo_csv:\n",
    "    next(archivo_csv)  # Saltar la cabecera\n",
    "    datos = list(csv.reader(archivo_csv))\n",
    "    print(datos)"
   ]
  },
  {
   "cell_type": "markdown",
   "metadata": {},
   "source": [
    "# Tarea"
   ]
  },
  {
   "cell_type": "markdown",
   "metadata": {},
   "source": [
    "<div class=\"alert alert-info\">\n",
    " <ul>\n",
    "  <li>1. Encuentre el número de estudiantes </li>\n",
    "</ul> \n",
    "\n",
    "</div>"
   ]
  },
  {
   "cell_type": "code",
   "execution_count": 3,
   "metadata": {},
   "outputs": [
    {
     "name": "stdout",
     "output_type": "stream",
     "text": [
      "35\n"
     ]
    }
   ],
   "source": [
    "print(len(datos))"
   ]
  },
  {
   "cell_type": "markdown",
   "metadata": {},
   "source": [
    "<div class=\"alert alert-info\">\n",
    " <ul>\n",
    "  <li>2. Hacer una lista llamada lista_promedio, con los promedios de los estudiantes.  </li>\n",
    "</ul> \n",
    "\n",
    "</div>"
   ]
  },
  {
   "cell_type": "code",
   "execution_count": 4,
   "metadata": {},
   "outputs": [
    {
     "name": "stdout",
     "output_type": "stream",
     "text": [
      "['59', '86', '94', '79', '100', '36', '77', '95', '97', '84', '83', '97', '45', '83', '50', '84', '26', '98', '66', '79', '52', '53', '77', '80', '68', '66', '76', '95', '83', '86', '70', '65', '69', '83', '97']\n"
     ]
    }
   ],
   "source": [
    "lista_promedio = []\n",
    "for fila in datos:\n",
    "    lista_promedio.append(fila[6])\n",
    "print(lista_promedio)"
   ]
  },
  {
   "cell_type": "markdown",
   "metadata": {},
   "source": [
    "<div class=\"alert alert-info\">\n",
    " <ul>\n",
    "  <li> 3. Con la lista_promedio encuentre el valor de la calificación mayor, menor y el promedio general  </li>\n",
    "</ul> \n",
    "\n",
    "</div>"
   ]
  },
  {
   "cell_type": "code",
   "execution_count": 5,
   "metadata": {},
   "outputs": [
    {
     "name": "stdout",
     "output_type": "stream",
     "text": [
      "Calificación Mayor:  100\n"
     ]
    }
   ],
   "source": [
    "print(\"Calificación Mayor: \", max([int(x) for x in lista_promedio]))"
   ]
  },
  {
   "cell_type": "code",
   "execution_count": 6,
   "metadata": {},
   "outputs": [
    {
     "name": "stdout",
     "output_type": "stream",
     "text": [
      "Calificación Menor:  26\n"
     ]
    }
   ],
   "source": [
    "print(\"Calificación Menor: \", min([int(x) for x in lista_promedio]))"
   ]
  },
  {
   "cell_type": "code",
   "execution_count": 7,
   "metadata": {},
   "outputs": [
    {
     "name": "stdout",
     "output_type": "stream",
     "text": [
      "Promedio:  75.37142857142857\n"
     ]
    }
   ],
   "source": [
    "print(\"Promedio: \", sum([float(promedio) for promedio in lista_promedio]) / float(len(lista_promedio)))"
   ]
  },
  {
   "cell_type": "markdown",
   "metadata": {},
   "source": [
    "<div class=\"alert alert-info\">\n",
    " <ul>\n",
    "  <li> 4. Cuantos estudiantes de cada carrera hay en la lista </li>\n",
    "</ul> \n",
    "\n",
    "</div>\n"
   ]
  },
  {
   "cell_type": "code",
   "execution_count": 8,
   "metadata": {},
   "outputs": [
    {
     "name": "stdout",
     "output_type": "stream",
     "text": [
      "Total Estudiantes Mecatronica:  10\n",
      "Total Estudiantes Renovable:  6\n",
      "Total Estudiantes Fisica:  19\n",
      "Total Estudiantes:  35\n"
     ]
    }
   ],
   "source": [
    "contador_estudiantes_Mecatronica=0\n",
    "contador_estudiantes_Renovables=0\n",
    "contador_estudiantes_Fisica=0\n",
    "\n",
    "for fila in datos:    \n",
    "    if fila[3] == \"Mecatronica\":\n",
    "        contador_estudiantes_Mecatronica =  contador_estudiantes_Mecatronica + 1\n",
    "    if fila[3] == \"Renovables\":\n",
    "        contador_estudiantes_Renovables =  contador_estudiantes_Renovables + 1\n",
    "    if fila[3] == \"Fisica\":\n",
    "        contador_estudiantes_Fisica =  contador_estudiantes_Fisica + 1\n",
    "        \n",
    "print(\"Total Estudiantes Mecatronica: \", contador_estudiantes_Mecatronica)\n",
    "print(\"Total Estudiantes Renovable: \", contador_estudiantes_Renovables)\n",
    "print(\"Total Estudiantes Fisica: \", contador_estudiantes_Fisica)\n",
    "print(\"Total Estudiantes: \", contador_estudiantes_Mecatronica + contador_estudiantes_Renovables + contador_estudiantes_Fisica)"
   ]
  },
  {
   "cell_type": "markdown",
   "metadata": {},
   "source": [
    "<div class=\"alert alert-info\">\n",
    " <ul>\n",
    "  <li> 5. Se desea crear un correo con el primer nombre seguido del primer apellido y teniendo el string '@fiuady.mx' </li>\n",
    "  \n",
    "Ejemplo:    \n",
    "* Rodrigo Alejandro,Aguilar Rosel   ->  rodrigo.aguilar@fiuady.mx \n",
    "* Dulce Mariana,Romero Quezada -> dulce.romero@fiuady.mx \n",
    "</ul> \n",
    "\n",
    "</div>\n",
    "\n",
    "##### Convertir  a minúsculas \n",
    "\n",
    "```python\n",
    "Saludo='HolA MUNDo'\n",
    "Saludo.lower()\n",
    "``` "
   ]
  },
  {
   "cell_type": "code",
   "execution_count": null,
   "metadata": {},
   "outputs": [
    {
     "name": "stdout",
     "output_type": "stream",
     "text": [
      "['rodrigo.aguilar@fiuady.mx', 'miguel.arroyo@fiuady.mx', 'nohely.badillo@fiuady.mx', 'julio.basto@fiuady.mx', 'zaazil.cabreja@fiuady.mx', 'fernando.carrillo@fiuady.mx', 'edwin.castillo@fiuady.mx', 'eduardo.catzin@fiuady.mx', 'dario.chan@fiuady.mx', 'abril.chan@fiuady.mx', 'alexa.dominguez@fiuady.mx', 'guillermo.dzib@fiuady.mx', 'maria.esteban@fiuady.mx', 'rafael.flores@fiuady.mx', 'saul.gamboa@fiuady.mx', 'ricardo.hernandez@fiuady.mx', 'sergio.lopez@fiuady.mx', 'eric.manzanilla@fiuady.mx', 'raul.mercado@fiuady.mx', 'fernando.mora@fiuady.mx', 'jimena.ochoa@fiuady.mx', 'jose.orozco@fiuady.mx', 'bruno.perez@fiuady.mx', 'jose.puc@fiuady.mx', 'carmen.rivera@fiuady.mx', 'hazael.rivero@fiuady.mx', 'laura.rocha@fiuady.mx', 'omar.rodriguez@fiuady.mx', 'dulce.romero@fiuady.mx', 'ariel.ruiz@fiuady.mx', 'rafael.salazar@fiuady.mx', 'alejandro.santoscoy@fiuady.mx', 'luis.sevilla@fiuady.mx', 'alan.vargas@fiuady.mx', 'rafael.vega@fiuady.mx']\n"
     ]
    }
   ],
   "source": [
    "dominio = '@fiuady.mx'\n",
    "lista_correos = []\n",
    "cont = 0\n",
    "\n",
    "for fila in datos: \n",
    "    lista_correos.append(fila[1].split()[0].lower())\n",
    "    lista_correos[cont] = lista_correos[cont] + '.' + fila[2].split()[0].lower() + dominio\n",
    "    cont += 1\n",
    "    \n",
    "print(lista_correos)"
   ]
  },
  {
   "cell_type": "code",
   "execution_count": 10,
   "metadata": {},
   "outputs": [
    {
     "name": "stdout",
     "output_type": "stream",
     "text": [
      "Aguilar Rosel Rodrigo Alejandro | Correo:  rodrigo.aguilar@fiuady.mx\n",
      "Arroyo Velazquez Miguel Isaac  | Correo:  miguel.arroyo@fiuady.mx\n",
      "Badillo Castillo Nohely | Correo:  nohely.badillo@fiuady.mx\n",
      "Basto Clavijo Julio de jesus | Correo:  julio.basto@fiuady.mx\n",
      "Cabreja Burgos Zaazil Ha | Correo:  zaazil.cabreja@fiuady.mx\n",
      "Carrillo Berdugo Fernando Humberto | Correo:  fernando.carrillo@fiuady.mx\n",
      "Castillo Herrera Edwin Alberto | Correo:  edwin.castillo@fiuady.mx\n",
      "Catzin Uc Eduardo Alonso | Correo:  eduardo.catzin@fiuady.mx\n",
      "Chan Colli Dario de Jesus | Correo:  dario.chan@fiuady.mx\n",
      "Chan Gallegos Abril Guadalupe | Correo:  abril.chan@fiuady.mx\n",
      "Dominguez Salazar Alexa Amairani | Correo:  alexa.dominguez@fiuady.mx\n",
      "Dzib Duran Guillermo Agustin | Correo:  guillermo.dzib@fiuady.mx\n",
      "Esteban Castro Maria del Carmen | Correo:  maria.esteban@fiuady.mx\n",
      "Flores Pat Rafael Eduardo | Correo:  rafael.flores@fiuady.mx\n",
      "Gamboa Leon Saul Eliseo | Correo:  saul.gamboa@fiuady.mx\n",
      "Hernandez Esperon Ricardo Andres | Correo:  ricardo.hernandez@fiuady.mx\n",
      "Lopez Fuentes Sergio Alonso | Correo:  sergio.lopez@fiuady.mx\n",
      "Manzanilla Careaga Eric Josue  | Correo:  eric.manzanilla@fiuady.mx\n",
      "Mercado Sandoval Raul Isaac | Correo:  raul.mercado@fiuady.mx\n",
      "Mora Cruz Fernando Antonio | Correo:  fernando.mora@fiuady.mx\n",
      "Ochoa Mancilla Jimena | Correo:  jimena.ochoa@fiuady.mx\n",
      "Orozco Chac Jose Rodrigo  | Correo:  jose.orozco@fiuady.mx\n",
      "Perez Hernandez Bruno | Correo:  bruno.perez@fiuady.mx\n",
      "Puc Ciau Jose Angel | Correo:  jose.puc@fiuady.mx\n",
      "Rivera Martinez Carmen Andrea | Correo:  carmen.rivera@fiuady.mx\n",
      "Rivero Canul Hazael | Correo:  hazael.rivero@fiuady.mx\n",
      "Rocha Villarino Laura Paola | Correo:  laura.rocha@fiuady.mx\n",
      "Rodriguez Gamboa Omar Yamil | Correo:  omar.rodriguez@fiuady.mx\n",
      "Romero Quezada Dulce Mariana | Correo:  dulce.romero@fiuady.mx\n",
      "Ruiz Ramirez Ariel Alejandro | Correo:  ariel.ruiz@fiuady.mx\n",
      "Salazar Magana Rafael Jesus  | Correo:  rafael.salazar@fiuady.mx\n",
      "Santoscoy Rivero Alejandro | Correo:  alejandro.santoscoy@fiuady.mx\n",
      "Sevilla Sarao Luis Ernesto | Correo:  luis.sevilla@fiuady.mx\n",
      "Vargas Saenz Alan David  | Correo:  alan.vargas@fiuady.mx\n",
      "Vega Can Rafael  | Correo:  rafael.vega@fiuady.mx\n"
     ]
    }
   ],
   "source": [
    "cont = 0\n",
    "for fila in datos: \n",
    "    print(fila[2], fila[1], \"| Correo: \" , lista_correos[cont])\n",
    "    cont += 1"
   ]
  }
 ],
 "metadata": {
  "kernelspec": {
   "display_name": "3.10.11",
   "language": "python",
   "name": "python3"
  },
  "language_info": {
   "codemirror_mode": {
    "name": "ipython",
    "version": 3
   },
   "file_extension": ".py",
   "mimetype": "text/x-python",
   "name": "python",
   "nbconvert_exporter": "python",
   "pygments_lexer": "ipython3",
   "version": "3.10.11"
  }
 },
 "nbformat": 4,
 "nbformat_minor": 4
}
